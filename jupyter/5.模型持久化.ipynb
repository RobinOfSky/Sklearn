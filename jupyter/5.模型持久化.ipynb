{
 "cells": [
  {
   "cell_type": "code",
   "execution_count": 4,
   "metadata": {},
   "outputs": [
    {
     "name": "stdout",
     "output_type": "stream",
     "text": [
      "[0 0 0 0 0 0 0 0 0 0 0 0 0 0 0 0 0 0 0 0 0 0 0 0 0 0 0 0 0 0 0 0 0 0 0 0 0\n",
      " 0 0 0 0 0 0 0 0 0 0 0 0 0 0 0 0 0 0 0 0 0 0 0 0 0 0 0 0 0 0 0 0 0 0 0 0 0\n",
      " 0 0 0 0 0 0 0 0 0 1 0 0 0 0 0 0 0 0 0 0 0 0 0 0 0 0 0 0 0 0 0 0 0 0 0 0 0\n",
      " 0 0 0 0 0 0 0 0 0 0 0 0 0 0 0 0 0 0 0 0 0 0 0 0 0 0 0 0 0 0 0 0 0 0 0 0 0\n",
      " 0 0]\n",
      "{'cv': 5, 'error_score': 'raise-deprecating', 'estimator__C': 1.0, 'estimator__cache_size': 200, 'estimator__class_weight': None, 'estimator__coef0': 0.0, 'estimator__decision_function_shape': 'ovr', 'estimator__degree': 3, 'estimator__gamma': 'auto_deprecated', 'estimator__kernel': 'rbf', 'estimator__max_iter': -1, 'estimator__probability': False, 'estimator__random_state': None, 'estimator__shrinking': True, 'estimator__tol': 0.001, 'estimator__verbose': False, 'estimator': SVC(C=1.0, cache_size=200, class_weight=None, coef0=0.0,\n",
      "  decision_function_shape='ovr', degree=3, gamma='auto_deprecated',\n",
      "  kernel='rbf', max_iter=-1, probability=False, random_state=None,\n",
      "  shrinking=True, tol=0.001, verbose=False), 'fit_params': None, 'iid': 'warn', 'n_jobs': None, 'param_grid': [{'C': [0.1, 1, 10, 100, 1000], 'kernel': ['linear']}, {'C': [0.1, 1, 10, 100, 1000], 'gamma': [0.001, 0.01], 'kernel': ['rbf']}], 'pre_dispatch': '2*n_jobs', 'refit': True, 'return_train_score': 'warn', 'scoring': 'accuracy', 'verbose': 0}\n",
      "{'C': 1, 'kernel': 'linear'}\n",
      "0.98\n",
      "用于在整个数据集中重新拟合最佳模型的秒数：0.0\n",
      "*********\n"
     ]
    },
    {
     "data": {
      "text/plain": [
       "array([0, 0, 0, 0, 0, 0, 0, 0, 0, 0, 0, 0, 0, 0, 0, 0, 0, 0, 0, 0, 0, 0,\n",
       "       0, 0, 0, 0, 0, 0, 0, 0, 0, 0, 0, 0, 0, 0, 0, 0, 0, 0, 0, 0, 0, 0,\n",
       "       0, 0, 0, 0, 0, 0, 1, 1, 1, 1, 1, 1, 1, 1, 1, 1, 1, 1, 1, 1, 1, 1,\n",
       "       1, 1, 1, 1, 1, 1, 1, 1, 1, 1, 1, 1, 1, 1, 1, 1, 1, 2, 1, 1, 1, 1,\n",
       "       1, 1, 1, 1, 1, 1, 1, 1, 1, 1, 1, 1, 2, 2, 2, 2, 2, 2, 2, 2, 2, 2,\n",
       "       2, 2, 2, 2, 2, 2, 2, 2, 2, 2, 2, 2, 2, 2, 2, 2, 2, 2, 2, 2, 2, 2,\n",
       "       2, 2, 2, 2, 2, 2, 2, 2, 2, 2, 2, 2, 2, 2, 2, 2, 2, 2])"
      ]
     },
     "execution_count": 4,
     "metadata": {},
     "output_type": "execute_result"
    }
   ],
   "source": [
    "from sklearn import datasets\n",
    "from sklearn.model_selection import GridSearchCV\n",
    "from sklearn import svm\n",
    "import pickle #python内置的pickle模块将训练好点额模型保存到磁盘或字符串，以便将来直接使用，而不是重复的字再次训练\n",
    "from sklearn.externals import joblib #是对于sklearn的，使用joblib会更加有效，但是只能保存到磁盘不能保存成字符串\n",
    "iris=datasets.load_iris()\n",
    "data=iris.data\n",
    "target=iris.target\n",
    "#分类器\n",
    "svc=svm.SVC()\n",
    "#网格参数\n",
    "param_grid = [{'C':[0.1,1,10,100,1000],'kernel':['linear']},\n",
    "             {'C':[0.1,1,10,100,1000],'gamma':[0.001,0.01],'kernel':['rbf']}]\n",
    "#得分标准\n",
    "scoring='accuracy'\n",
    "\n",
    "clf=GridSearchCV(svc,param_grid,scoring=scoring,cv=5)\n",
    "clf.fit(data,target)\n",
    "print(clf.predict(data)-target)\n",
    "\n",
    "print(clf.get_params())\n",
    "print(clf.best_params_)\n",
    "print(clf.best_score_)\n",
    "print(\"用于在整个数据集中重新拟合最佳模型的秒数：{}\".format(clf.refit_time_))\n",
    "\n",
    "\n",
    "#将训练好的模型进行保存\n",
    "str_model=pickle.dumps(clf) # dumps表示保存模型到字符串，dump表示保存到磁盘\n",
    "clf2=pickle.loads(str_model) #loads表示将保存的字符串中加载模型，load表示加载的是从磁盘中保存的模型\n",
    "clf2.predict(data)\n",
    "print(\"*********\")\n",
    "joblib.dump(clf,'iris_svm.pkl') #保存模型到文件\n",
    "clf3=joblib.load('iris_svm.pkl') #加载模型\n",
    "clf3.predict(data)"
   ]
  },
  {
   "cell_type": "code",
   "execution_count": null,
   "metadata": {},
   "outputs": [],
   "source": []
  }
 ],
 "metadata": {
  "kernelspec": {
   "display_name": "Python 3",
   "language": "python",
   "name": "python3"
  },
  "language_info": {
   "codemirror_mode": {
    "name": "ipython",
    "version": 3
   },
   "file_extension": ".py",
   "mimetype": "text/x-python",
   "name": "python",
   "nbconvert_exporter": "python",
   "pygments_lexer": "ipython3",
   "version": "3.7.3"
  }
 },
 "nbformat": 4,
 "nbformat_minor": 2
}
