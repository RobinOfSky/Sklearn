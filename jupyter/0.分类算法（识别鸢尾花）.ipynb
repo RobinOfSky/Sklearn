{
 "cells": [
  {
   "cell_type": "code",
   "execution_count": 1,
   "metadata": {},
   "outputs": [],
   "source": [
    "#识别Iris鸢尾花类别\n",
    "#这是一个分类问题，更具样本数据中的4个特征和一个类别变量，样本数150"
   ]
  },
  {
   "cell_type": "code",
   "execution_count": 2,
   "metadata": {},
   "outputs": [],
   "source": [
    "#四个特征分别是：花萼长度，花萼宽度，花瓣长度，花瓣宽度\n",
    "#三种类别：山鸢尾，变色鸢尾和维吉尼亚鸢尾"
   ]
  },
  {
   "cell_type": "code",
   "execution_count": 5,
   "metadata": {},
   "outputs": [],
   "source": [
    "#步骤：\n",
    "#首先加载鸢尾花数据（这个数据在sklearn的datasets中）\n",
    "#先输出查看数据集的一些特特征和标签\n",
    "#这一步可以不做，主要是初学者先了解一下数据的可视化效果（通过绘制花萼特征的位置分布来简单的了解分类的初步模型）\n",
    "#使用分类算法来识别（这里有很多的分类算法：逻辑回归和knn）\n",
    "#最后输出，可视化的图形。"
   ]
  },
  {
   "cell_type": "code",
   "execution_count": 5,
   "metadata": {},
   "outputs": [],
   "source": [
    "#加载数据\n",
    "from sklearn import datasets\n",
    "\n",
    "#j加载鸢尾花数据\n",
    "iris= datasets.load_iris()"
   ]
  },
  {
   "cell_type": "code",
   "execution_count": 11,
   "metadata": {},
   "outputs": [
    {
     "name": "stdout",
     "output_type": "stream",
     "text": [
      "feature_names:['sepal length (cm)', 'sepal width (cm)', 'petal length (cm)', 'petal width (cm)']\n"
     ]
    }
   ],
   "source": [
    "#查看特征名称\n",
    "print(\"feature_names:{0}\".format(iris.feature_names))"
   ]
  },
  {
   "cell_type": "code",
   "execution_count": 13,
   "metadata": {},
   "outputs": [
    {
     "name": "stdout",
     "output_type": "stream",
     "text": [
      "target_names:['setosa' 'versicolor' 'virginica']\n"
     ]
    }
   ],
   "source": [
    "# 查看目标标签名称\n",
    "print(\"target_names:{0}\".format(iris.target_names))"
   ]
  },
  {
   "cell_type": "code",
   "execution_count": 15,
   "metadata": {},
   "outputs": [
    {
     "name": "stdout",
     "output_type": "stream",
     "text": [
      "data shape:(150, 4)\n"
     ]
    }
   ],
   "source": [
    "#查看元数据（特征矩阵）形状\n",
    "print(\"data shape:{0}\".format(iris.data.shape))"
   ]
  },
  {
   "cell_type": "code",
   "execution_count": 16,
   "metadata": {},
   "outputs": [
    {
     "name": "stdout",
     "output_type": "stream",
     "text": [
      "data top 5:[[5.1 3.5 1.4 0.2]\n",
      " [4.9 3.  1.4 0.2]\n",
      " [4.7 3.2 1.3 0.2]\n",
      " [4.6 3.1 1.5 0.2]]\n"
     ]
    }
   ],
   "source": [
    "#查看元数据（特征矩阵）前四条\n",
    "print(\"data top 5:{0}\".format(iris.data[:4]))"
   ]
  },
  {
   "cell_type": "code",
   "execution_count": 19,
   "metadata": {},
   "outputs": [
    {
     "name": "stdout",
     "output_type": "stream",
     "text": [
      "target unique;[0 1 2]\n"
     ]
    }
   ],
   "source": [
    "#查看目标标签的类别标识\n",
    "import numpy as np\n",
    "print(\"target unique;{0}\".format(np.unique(iris.target)))"
   ]
  },
  {
   "cell_type": "code",
   "execution_count": 36,
   "metadata": {},
   "outputs": [
    {
     "name": "stdout",
     "output_type": "stream",
     "text": [
      "target top 4:[0 0 0 0]\n"
     ]
    }
   ],
   "source": [
    "#查看标签的前四条数据\n",
    "print(\"target top 4:{}\".format(iris.target[:4]))"
   ]
  },
  {
   "cell_type": "code",
   "execution_count": 12,
   "metadata": {
    "code_folding": []
   },
   "outputs": [
    {
     "name": "stdout",
     "output_type": "stream",
     "text": [
      "[0 0 0 0 0 0 0 0 0 0 0 0 0 0 0 0 0 0 0 0 0 0 0 0 0 0 0 0 0 0 0 0 0 0 0 0 0\n",
      " 0 0 0 0 0 0 0 0 0 0 0 0 0 1 1 1 1 1 1 1 1 1 1 1 1 1 1 1 1 1 1 1 1 1 1 1 1\n",
      " 1 1 1 1 1 1 1 1 1 1 1 1 1 1 1 1 1 1 1 1 1 1 1 1 1 1 2 2 2 2 2 2 2 2 2 2 2\n",
      " 2 2 2 2 2 2 2 2 2 2 2 2 2 2 2 2 2 2 2 2 2 2 2 2 2 2 2 2 2 2 2 2 2 2 2 2 2\n",
      " 2 2]\n"
     ]
    },
    {
     "data": {
      "text/plain": [
       "numpy.ndarray"
      ]
     },
     "execution_count": 12,
     "metadata": {},
     "output_type": "execute_result"
    }
   ],
   "source": [
    "# print(iris.data)\n",
    "print(iris.target)\n",
    "#print(iris.DESCR)\n",
    "type(iris.target)"
   ]
  },
  {
   "cell_type": "code",
   "execution_count": 38,
   "metadata": {},
   "outputs": [],
   "source": [
    "sepal_length_list=iris.data[:,0]"
   ]
  },
  {
   "cell_type": "code",
   "execution_count": 39,
   "metadata": {},
   "outputs": [
    {
     "name": "stdout",
     "output_type": "stream",
     "text": [
      "[5.1 4.9 4.7 4.6 5.  5.4 4.6 5.  4.4 4.9 5.4 4.8 4.8 4.3 5.8 5.7 5.4 5.1\n",
      " 5.7 5.1 5.4 5.1 4.6 5.1 4.8 5.  5.  5.2 5.2 4.7 4.8 5.4 5.2 5.5 4.9 5.\n",
      " 5.5 4.9 4.4 5.1 5.  4.5 4.4 5.  5.1 4.8 5.1 4.6 5.3 5.  7.  6.4 6.9 5.5\n",
      " 6.5 5.7 6.3 4.9 6.6 5.2 5.  5.9 6.  6.1 5.6 6.7 5.6 5.8 6.2 5.6 5.9 6.1\n",
      " 6.3 6.1 6.4 6.6 6.8 6.7 6.  5.7 5.5 5.5 5.8 6.  5.4 6.  6.7 6.3 5.6 5.5\n",
      " 5.5 6.1 5.8 5.  5.6 5.7 5.7 6.2 5.1 5.7 6.3 5.8 7.1 6.3 6.5 7.6 4.9 7.3\n",
      " 6.7 7.2 6.5 6.4 6.8 5.7 5.8 6.4 6.5 7.7 7.7 6.  6.9 5.6 7.7 6.3 6.7 7.2\n",
      " 6.2 6.1 6.4 7.2 7.4 7.9 6.4 6.3 6.1 7.7 6.3 6.4 6.  6.9 6.7 6.9 5.8 6.8\n",
      " 6.7 6.7 6.3 6.5 6.2 5.9]\n"
     ]
    }
   ],
   "source": [
    "print(sepal_length_list)"
   ]
  },
  {
   "cell_type": "code",
   "execution_count": 7,
   "metadata": {},
   "outputs": [
    {
     "data": {
      "image/png": "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\n",
      "text/plain": [
       "<Figure size 432x288 with 1 Axes>"
      ]
     },
     "metadata": {
      "needs_background": "light"
     },
     "output_type": "display_data"
    }
   ],
   "source": [
    "from matplotlib import pyplot as plt\n",
    "sepal_length_list = iris.data[:, 0] # 花萼长度\n",
    "sepal_width_list = iris.data[:, 1] # 花萼宽度\n",
    "\n",
    "# 构建 setosa、versicolor、virginica 索引数组\n",
    "setosa_index_list = iris.target == 0 # setosa 索引数组\n",
    "versicolor_index_list = iris.target == 1 # versicolor 索引数组\n",
    "virginica_index_list = iris.target == 2 # virginica 索引数组\n",
    "\n",
    "plt.scatter(sepal_length_list[setosa_index_list], \n",
    "            sepal_width_list[setosa_index_list], color=\"red\", marker='o', label=\"setosa\")\n",
    "plt.scatter(sepal_length_list[versicolor_index_list], \n",
    "            sepal_width_list[versicolor_index_list], color=\"blue\", marker=\"x\", label=\"versicolor\")\n",
    "plt.scatter(sepal_length_list[virginica_index_list], \n",
    "            sepal_width_list[virginica_index_list],color=\"green\", marker=\"+\", label=\"virginica\")\n",
    "# 设置 legend\n",
    "plt.legend(loc=\"best\", title=\"iris type\")\n",
    "# 设定横坐标名称\n",
    "plt.xlabel(\"sepal_length (cm)\")\n",
    "# 设定纵坐标名称\n",
    "plt.ylabel(\"sepal_width (cm)\")\n",
    "plt.show()"
   ]
  },
  {
   "cell_type": "code",
   "execution_count": 9,
   "metadata": {},
   "outputs": [
    {
     "data": {
      "text/plain": [
       "numpy.ndarray"
      ]
     },
     "execution_count": 9,
     "metadata": {},
     "output_type": "execute_result"
    }
   ],
   "source": [
    "type(sepal_length_list)"
   ]
  },
  {
   "cell_type": "code",
   "execution_count": 14,
   "metadata": {},
   "outputs": [
    {
     "data": {
      "text/plain": [
       "numpy.ndarray"
      ]
     },
     "execution_count": 14,
     "metadata": {},
     "output_type": "execute_result"
    }
   ],
   "source": [
    "type(setosa_index_list)"
   ]
  },
  {
   "cell_type": "code",
   "execution_count": 27,
   "metadata": {},
   "outputs": [
    {
     "name": "stdout",
     "output_type": "stream",
     "text": [
      "[ True  True  True  True  True  True  True  True  True  True  True  True\n",
      "  True  True  True  True  True  True  True  True  True  True  True  True\n",
      "  True  True  True  True  True  True  True  True  True  True  True  True\n",
      "  True  True  True  True  True  True  True  True  True  True  True  True\n",
      "  True  True False False False False False False False False False False\n",
      " False False False False False False False False False False False False\n",
      " False False False False False False False False False False False False\n",
      " False False False False False False False False False False False False\n",
      " False False False False False False False False False False False False\n",
      " False False False False False False False False False False False False\n",
      " False False False False False False False False False False False False\n",
      " False False False False False False False False False False False False\n",
      " False False False False False False]\n"
     ]
    }
   ],
   "source": [
    "print(setosa_index_list)"
   ]
  },
  {
   "cell_type": "code",
   "execution_count": 16,
   "metadata": {},
   "outputs": [
    {
     "name": "stdout",
     "output_type": "stream",
     "text": [
      "['sepal length (cm)', 'sepal width (cm)', 'petal length (cm)', 'petal width (cm)']\n"
     ]
    }
   ],
   "source": [
    "print(iris.feature_names)"
   ]
  },
  {
   "cell_type": "code",
   "execution_count": 17,
   "metadata": {},
   "outputs": [
    {
     "name": "stdout",
     "output_type": "stream",
     "text": [
      "['setosa' 'versicolor' 'virginica']\n"
     ]
    }
   ],
   "source": [
    "print(iris.target_names)"
   ]
  },
  {
   "cell_type": "code",
   "execution_count": 21,
   "metadata": {},
   "outputs": [
    {
     "data": {
      "image/png": "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\n",
      "text/plain": [
       "<Figure size 432x288 with 1 Axes>"
      ]
     },
     "metadata": {
      "needs_background": "light"
     },
     "output_type": "display_data"
    }
   ],
   "source": [
    "#绘制特征花瓣长度和花瓣宽度的图像\n",
    "from matplotlib import pyplot as plt\n",
    "#从iris.data中取出花瓣的长度和宽度这两列\n",
    "petal_length_list=iris.data[:,2]\n",
    "petal_width_list=iris.data[:,3]\n",
    "# 鸢尾花类别的索引数组\n",
    "setosa_index_list=iris.target==0\n",
    "versicolor_index_list=iris.target==1\n",
    "virginica_index_list=iris.target==2\n",
    "\n",
    "plt.scatter(petal_length_list[setosa_index_list],\n",
    "           petal_width_list[setosa_index_list],color=\"blue\",marker=\"o\",\n",
    "            label=\"setosa\")\n",
    "plt.scatter(petal_length_list[versicolor_index_list],\n",
    "           petal_width_list[versicolor_index_list],color=\"yellow\",marker=\"*\",\n",
    "            label=\"versicolor\")\n",
    "plt.scatter(petal_length_list[virginica_index_list],\n",
    "            petal_width_list[virginica_index_list],color=\"green\",marker=\"+\",\n",
    "            label=\"virginica\")\n",
    "#图像的图例\n",
    "plt.legend(loc=\"best\",title=\"iris type\")\n",
    "#图像横竖坐标\n",
    "plt.xlabel(\"petal length\")\n",
    "plt.ylabel(\"petal wigth\")\n",
    "\n",
    "plt.show()"
   ]
  },
  {
   "cell_type": "code",
   "execution_count": 44,
   "metadata": {},
   "outputs": [],
   "source": [
    "X=iris.data"
   ]
  },
  {
   "cell_type": "code",
   "execution_count": 46,
   "metadata": {},
   "outputs": [],
   "source": [
    "y=iris.target"
   ]
  },
  {
   "cell_type": "code",
   "execution_count": 48,
   "metadata": {},
   "outputs": [],
   "source": [
    "from sklearn import linear_model"
   ]
  },
  {
   "cell_type": "code",
   "execution_count": 49,
   "metadata": {},
   "outputs": [],
   "source": [
    "clf=linear_model.LogisticRegression()"
   ]
  },
  {
   "cell_type": "code",
   "execution_count": 50,
   "metadata": {},
   "outputs": [
    {
     "name": "stderr",
     "output_type": "stream",
     "text": [
      "C:\\ProgramData\\Anaconda3\\lib\\site-packages\\sklearn\\linear_model\\logistic.py:433: FutureWarning: Default solver will be changed to 'lbfgs' in 0.22. Specify a solver to silence this warning.\n",
      "  FutureWarning)\n",
      "C:\\ProgramData\\Anaconda3\\lib\\site-packages\\sklearn\\linear_model\\logistic.py:460: FutureWarning: Default multi_class will be changed to 'auto' in 0.22. Specify the multi_class option to silence this warning.\n",
      "  \"this warning.\", FutureWarning)\n"
     ]
    },
    {
     "data": {
      "text/plain": [
       "LogisticRegression(C=1.0, class_weight=None, dual=False, fit_intercept=True,\n",
       "          intercept_scaling=1, max_iter=100, multi_class='warn',\n",
       "          n_jobs=None, penalty='l2', random_state=None, solver='warn',\n",
       "          tol=0.0001, verbose=0, warm_start=False)"
      ]
     },
     "execution_count": 50,
     "metadata": {},
     "output_type": "execute_result"
    }
   ],
   "source": [
    "clf.fit(X,y)"
   ]
  },
  {
   "cell_type": "code",
   "execution_count": 51,
   "metadata": {},
   "outputs": [],
   "source": [
    "wait_predict_sample=X[np.newaxis,0]"
   ]
  },
  {
   "cell_type": "code",
   "execution_count": 22,
   "metadata": {},
   "outputs": [
    {
     "ename": "NameError",
     "evalue": "name 'wait_predict_sample' is not defined",
     "output_type": "error",
     "traceback": [
      "\u001b[1;31m----------------------------------------\u001b[0m",
      "\u001b[1;31mNameError\u001b[0mTraceback (most recent call last)",
      "\u001b[1;32m<ipython-input-22-1d74f80e40f2>\u001b[0m in \u001b[0;36m<module>\u001b[1;34m\u001b[0m\n\u001b[1;32m----> 1\u001b[1;33m \u001b[0mprint\u001b[0m\u001b[1;33m(\u001b[0m\u001b[1;34m\"wait_predict_sample: {0}\"\u001b[0m\u001b[1;33m.\u001b[0m\u001b[0mformat\u001b[0m\u001b[1;33m(\u001b[0m\u001b[0mwait_predict_sample\u001b[0m\u001b[1;33m)\u001b[0m\u001b[1;33m)\u001b[0m\u001b[1;33m\u001b[0m\u001b[1;33m\u001b[0m\u001b[0m\n\u001b[0m\u001b[0;32m      2\u001b[0m \u001b[1;31m# 预测所属目标类别\u001b[0m\u001b[1;33m\u001b[0m\u001b[1;33m\u001b[0m\u001b[1;33m\u001b[0m\u001b[0m\n\u001b[0;32m      3\u001b[0m \u001b[0mprint\u001b[0m\u001b[1;33m(\u001b[0m\u001b[1;34m\"predict: {0}\"\u001b[0m\u001b[1;33m.\u001b[0m\u001b[0mformat\u001b[0m\u001b[1;33m(\u001b[0m\u001b[0mclf\u001b[0m\u001b[1;33m.\u001b[0m\u001b[0mpredict\u001b[0m\u001b[1;33m(\u001b[0m\u001b[0mwait_predict_sample\u001b[0m\u001b[1;33m)\u001b[0m\u001b[1;33m)\u001b[0m\u001b[1;33m)\u001b[0m\u001b[1;33m\u001b[0m\u001b[1;33m\u001b[0m\u001b[0m\n\u001b[0;32m      4\u001b[0m \u001b[1;31m# 预测所属不同目标类别的概率\u001b[0m\u001b[1;33m\u001b[0m\u001b[1;33m\u001b[0m\u001b[1;33m\u001b[0m\u001b[0m\n\u001b[0;32m      5\u001b[0m \u001b[0mprint\u001b[0m\u001b[1;33m(\u001b[0m\u001b[1;34m\"predict_proba: {0}\"\u001b[0m\u001b[1;33m.\u001b[0m\u001b[0mformat\u001b[0m\u001b[1;33m(\u001b[0m\u001b[0mclf\u001b[0m\u001b[1;33m.\u001b[0m\u001b[0mpredict_proba\u001b[0m\u001b[1;33m(\u001b[0m\u001b[0mwait_predict_sample\u001b[0m\u001b[1;33m)\u001b[0m\u001b[1;33m)\u001b[0m\u001b[1;33m)\u001b[0m\u001b[1;33m\u001b[0m\u001b[1;33m\u001b[0m\u001b[0m\n",
      "\u001b[1;31mNameError\u001b[0m: name 'wait_predict_sample' is not defined"
     ]
    }
   ],
   "source": [
    "print(\"wait_predict_sample: {0}\".format(wait_predict_sample))\n",
    "# 预测所属目标类别\n",
    "print(\"predict: {0}\".format(clf.predict(wait_predict_sample)))\n",
    "# 预测所属不同目标类别的概率\n",
    "print(\"predict_proba: {0}\".format(clf.predict_proba(wait_predict_sample)))"
   ]
  },
  {
   "cell_type": "code",
   "execution_count": 30,
   "metadata": {},
   "outputs": [
    {
     "name": "stderr",
     "output_type": "stream",
     "text": [
      "C:\\ProgramData\\Anaconda3\\lib\\site-packages\\sklearn\\linear_model\\logistic.py:433: FutureWarning: Default solver will be changed to 'lbfgs' in 0.22. Specify a solver to silence this warning.\n",
      "  FutureWarning)\n",
      "C:\\ProgramData\\Anaconda3\\lib\\site-packages\\sklearn\\linear_model\\logistic.py:460: FutureWarning: Default multi_class will be changed to 'auto' in 0.22. Specify the multi_class option to silence this warning.\n",
      "  \"this warning.\", FutureWarning)\n"
     ]
    },
    {
     "data": {
      "text/plain": [
       "LogisticRegression(C=1.0, class_weight=None, dual=False, fit_intercept=True,\n",
       "          intercept_scaling=1, max_iter=100, multi_class='warn',\n",
       "          n_jobs=None, penalty='l2', random_state=None, solver='warn',\n",
       "          tol=0.0001, verbose=0, warm_start=False)"
      ]
     },
     "execution_count": 30,
     "metadata": {},
     "output_type": "execute_result"
    }
   ],
   "source": [
    "X=iris.data\n",
    "y=iris.target\n",
    "from sklearn import linear_model\n",
    "clf=linear_model.LogisticRegression()\n",
    "clf.fit(X,y)"
   ]
  },
  {
   "cell_type": "code",
   "execution_count": 53,
   "metadata": {},
   "outputs": [
    {
     "name": "stderr",
     "output_type": "stream",
     "text": [
      "C:\\ProgramData\\Anaconda3\\lib\\site-packages\\sklearn\\linear_model\\logistic.py:433: FutureWarning: Default solver will be changed to 'lbfgs' in 0.22. Specify a solver to silence this warning.\n",
      "  FutureWarning)\n",
      "C:\\ProgramData\\Anaconda3\\lib\\site-packages\\sklearn\\linear_model\\logistic.py:460: FutureWarning: Default multi_class will be changed to 'auto' in 0.22. Specify the multi_class option to silence this warning.\n",
      "  \"this warning.\", FutureWarning)\n"
     ]
    },
    {
     "name": "stdout",
     "output_type": "stream",
     "text": [
      "Z==[1 1 1 ... 2 2 2]\n"
     ]
    },
    {
     "data": {
      "image/png": "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\n",
      "text/plain": [
       "<Figure size 576x432 with 1 Axes>"
      ]
     },
     "metadata": {
      "needs_background": "light"
     },
     "output_type": "display_data"
    },
    {
     "name": "stdout",
     "output_type": "stream",
     "text": [
      "(39501, 2)\n"
     ]
    }
   ],
   "source": [
    "# 只考虑前两个特征，即花萼长度（sepal length）、花萼宽度（sepal width）\n",
    "X = iris.data[:, 0:2]\n",
    "y = iris.target\n",
    "\n",
    "# 创建一个逻辑回归的模型，并用它训练（拟合，fit）数据\n",
    "logreg = linear_model.LogisticRegression(C=1e8)\n",
    "logreg.fit(X, y)\n",
    "\n",
    "# 网格大小\n",
    "h = .02\n",
    "# 将 X 的第一列（花萼长度）作为 x 轴，并求出 x 轴的最大值与最小值\n",
    "x_min, x_max = X[:, 0].min() - .5, X[:, 0].max() + .5\n",
    "# 将 X 的第二列（花萼宽度）作为 y 轴，并求出 y 轴的最大值与最小值\n",
    "y_min, y_max = X[:, 1].min() - .5, X[:, 1].max() + .5\n",
    "\n",
    "# 使用 x 轴的最小值、最大值、步长生成数组，y 轴的最小值、最大值、步长生成数组\n",
    "# 然后使用 meshgrid 函数生成一个网格矩阵 xx 和 yy（xx 和 yy 的形状都一样）\n",
    "xx, yy = np.meshgrid(np.arange(x_min, x_max, h), np.arange(y_min, y_max, h))\n",
    "\n",
    "# 调用 ravel() 函数将 xx 和 yy 平铺，然后使用 np.c_ 将平铺后的列表拼接\n",
    "# 生成需要预测的特征矩阵，每一行的表示一个样本，每一列表示每个特征的取值\n",
    "pre_data = np.c_[xx.ravel(), yy.ravel()]\n",
    "Z = logreg.predict(pre_data)\n",
<<<<<<< HEAD
=======
    "print(\"Z=={0}\".format(Z))\n",
>>>>>>> 08e8e9c2b74825d84ba3e2d32bd5f309e2a2196f
    "\n",
    "# Put the result into a color plot\n",
    "# 将预测结果 Z 的形状转为与 xx（或 yy）一样\n",
    "Z = Z.reshape(xx.shape)\n",
    "plt.figure(1, figsize=(8, 6))\n",
    "\n",
    "# 使用 pcolormesh 函数来填充颜色，对 xx，yy的位置来填充颜色，填充方案为 Z\n",
    "# cmap 表示使用的主题\n",
    "plt.pcolormesh(xx, yy, Z, cmap=plt.cm.Paired)\n",
    "\n",
    "# 将训练数据所表示的样本点填充上颜色\n",
    "plt.scatter(X[:, 0], X[:, 1], c=y, edgecolors='k', cmap=plt.cm.Paired)\n",
    "\n",
    "# 设置坐标轴label\n",
    "plt.xlabel(\"sepal length\")\n",
    "plt.ylabel(\"sepal width\")\n",
    "\n",
    "# 设置坐标轴范围\n",
    "plt.xlim(xx.min(), xx.max())\n",
    "plt.ylim(yy.min(), yy.max())\n",
    "\n",
    "# 设置坐标轴刻度\n",
    "plt.xticks(np.arange(x_min, x_max, h * 10))\n",
    "plt.yticks(np.arange(y_min, y_max, h * 10))\n",
    "\n",
    "plt.show()\n",
    "print(pre_data.shape)"
   ]
  },
  {
   "cell_type": "code",
   "execution_count": 45,
   "metadata": {},
   "outputs": [],
   "source": [
    "c=iris.data[:,0:2]"
   ]
  },
  {
   "cell_type": "code",
   "execution_count": 52,
   "metadata": {},
   "outputs": [
    {
     "name": "stdout",
     "output_type": "stream",
     "text": [
      "[[1 1 1 ... 2 2 2]\n",
      " [1 1 1 ... 2 2 2]\n",
      " [0 1 1 ... 2 2 2]\n",
      " ...\n",
      " [0 0 0 ... 2 2 2]\n",
      " [0 0 0 ... 2 2 2]\n",
      " [0 0 0 ... 2 2 2]]\n"
     ]
    }
   ],
   "source": [
    "print(Z)"
   ]
  },
  {
   "cell_type": "code",
   "execution_count": 49,
   "metadata": {},
   "outputs": [
    {
     "data": {
      "text/plain": [
       "(150, 2)"
      ]
     },
     "execution_count": 49,
     "metadata": {},
     "output_type": "execute_result"
    }
   ],
   "source": [
    "c.shape"
   ]
  },
  {
   "cell_type": "code",
   "execution_count": null,
   "metadata": {},
   "outputs": [],
   "source": []
  }
 ],
 "metadata": {
  "kernelspec": {
   "display_name": "Python 3",
   "language": "python",
   "name": "python3"
  },
  "language_info": {
   "codemirror_mode": {
    "name": "ipython",
    "version": 3
   },
   "file_extension": ".py",
   "mimetype": "text/x-python",
   "name": "python",
   "nbconvert_exporter": "python",
   "pygments_lexer": "ipython3",
   "version": "3.7.3"
  }
 },
 "nbformat": 4,
 "nbformat_minor": 2
}
