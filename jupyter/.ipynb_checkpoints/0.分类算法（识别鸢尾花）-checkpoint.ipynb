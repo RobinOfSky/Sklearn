{
 "cells": [
  {
   "cell_type": "code",
   "execution_count": 1,
   "metadata": {},
   "outputs": [],
   "source": [
    "#识别Iris鸢尾花类别\n",
    "#这是一个分类问题，更具样本数据中的4个特征和一个类别变量，样本数150"
   ]
  },
  {
   "cell_type": "code",
   "execution_count": 2,
   "metadata": {},
   "outputs": [],
   "source": [
    "#四个特征分别是：花萼长度，花萼宽度，花瓣长度，花瓣宽度\n",
    "#三种类别：山鸢尾，变色鸢尾和维吉尼亚鸢尾"
   ]
  },
  {
   "cell_type": "code",
   "execution_count": 5,
   "metadata": {},
   "outputs": [],
   "source": [
    "#步骤：\n",
    "#首先加载鸢尾花数据（这个数据在sklearn的datasets中）\n",
    "#先输出查看数据集的一些特特征和标签\n",
    "#这一步可以不做，主要是初学者先了解一下数据的可视化效果（通过绘制花萼特征的位置分布来简单的了解分类的初步模型）\n",
    "#使用分类算法来识别（这里有很多的分类算法：逻辑回归和knn）\n",
    "#最后输出，可视化的图形。"
   ]
  },
  {
   "cell_type": "code",
   "execution_count": 10,
   "metadata": {},
   "outputs": [],
   "source": [
    "#加载数据\n",
    "from sklearn import datasets\n",
    "\n",
    "#j加载鸢尾花数据\n",
    "iris= datasets.load_iris()"
   ]
  },
  {
   "cell_type": "code",
   "execution_count": 11,
   "metadata": {},
   "outputs": [
    {
     "name": "stdout",
     "output_type": "stream",
     "text": [
      "feature_names:['sepal length (cm)', 'sepal width (cm)', 'petal length (cm)', 'petal width (cm)']\n"
     ]
    }
   ],
   "source": [
    "#查看特征名称\n",
    "print(\"feature_names:{0}\".format(iris.feature_names))"
   ]
  },
  {
   "cell_type": "code",
   "execution_count": 13,
   "metadata": {},
   "outputs": [
    {
     "name": "stdout",
     "output_type": "stream",
     "text": [
      "target_names:['setosa' 'versicolor' 'virginica']\n"
     ]
    }
   ],
   "source": [
    "# 查看目标标签名称\n",
    "print(\"target_names:{0}\".format(iris.target_names))"
   ]
  },
  {
   "cell_type": "code",
   "execution_count": 15,
   "metadata": {},
   "outputs": [
    {
     "name": "stdout",
     "output_type": "stream",
     "text": [
      "data shape:(150, 4)\n"
     ]
    }
   ],
   "source": [
    "#查看元数据（特征矩阵）形状\n",
    "print(\"data shape:{0}\".format(iris.data.shape))"
   ]
  },
  {
   "cell_type": "code",
   "execution_count": 16,
   "metadata": {},
   "outputs": [
    {
     "name": "stdout",
     "output_type": "stream",
     "text": [
      "data top 5:[[5.1 3.5 1.4 0.2]\n",
      " [4.9 3.  1.4 0.2]\n",
      " [4.7 3.2 1.3 0.2]\n",
      " [4.6 3.1 1.5 0.2]]\n"
     ]
    }
   ],
   "source": [
    "#查看元数据（特征矩阵）前四条\n",
    "print(\"data top 5:{0}\".format(iris.data[:4]))"
   ]
  },
  {
   "cell_type": "code",
   "execution_count": 19,
   "metadata": {},
   "outputs": [
    {
     "name": "stdout",
     "output_type": "stream",
     "text": [
      "target unique;[0 1 2]\n"
     ]
    }
   ],
   "source": [
    "#查看目标标签的类别标识\n",
    "import numpy as np\n",
    "print(\"target unique;{0}\".format(np.unique(iris.target)))"
   ]
  },
  {
   "cell_type": "code",
   "execution_count": 36,
   "metadata": {},
   "outputs": [
    {
     "name": "stdout",
     "output_type": "stream",
     "text": [
      "target top 4:[0 0 0 0]\n"
     ]
    }
   ],
   "source": [
    "#查看标签的前四条数据\n",
    "print(\"target top 4:{}\".format(iris.target[:4]))"
   ]
  },
  {
   "cell_type": "code",
   "execution_count": null,
   "metadata": {
    "code_folding": []
   },
   "outputs": [],
   "source": [
    "# print(iris.data)\n",
    "#print(iris.target)\n",
    "print(iris.DESCR)"
   ]
  },
  {
   "cell_type": "code",
   "execution_count": 38,
   "metadata": {},
   "outputs": [],
   "source": [
    "sepal_length_list=iris.data[:,0]"
   ]
  },
  {
   "cell_type": "code",
   "execution_count": 39,
   "metadata": {},
   "outputs": [
    {
     "name": "stdout",
     "output_type": "stream",
     "text": [
      "[5.1 4.9 4.7 4.6 5.  5.4 4.6 5.  4.4 4.9 5.4 4.8 4.8 4.3 5.8 5.7 5.4 5.1\n",
      " 5.7 5.1 5.4 5.1 4.6 5.1 4.8 5.  5.  5.2 5.2 4.7 4.8 5.4 5.2 5.5 4.9 5.\n",
      " 5.5 4.9 4.4 5.1 5.  4.5 4.4 5.  5.1 4.8 5.1 4.6 5.3 5.  7.  6.4 6.9 5.5\n",
      " 6.5 5.7 6.3 4.9 6.6 5.2 5.  5.9 6.  6.1 5.6 6.7 5.6 5.8 6.2 5.6 5.9 6.1\n",
      " 6.3 6.1 6.4 6.6 6.8 6.7 6.  5.7 5.5 5.5 5.8 6.  5.4 6.  6.7 6.3 5.6 5.5\n",
      " 5.5 6.1 5.8 5.  5.6 5.7 5.7 6.2 5.1 5.7 6.3 5.8 7.1 6.3 6.5 7.6 4.9 7.3\n",
      " 6.7 7.2 6.5 6.4 6.8 5.7 5.8 6.4 6.5 7.7 7.7 6.  6.9 5.6 7.7 6.3 6.7 7.2\n",
      " 6.2 6.1 6.4 7.2 7.4 7.9 6.4 6.3 6.1 7.7 6.3 6.4 6.  6.9 6.7 6.9 5.8 6.8\n",
      " 6.7 6.7 6.3 6.5 6.2 5.9]\n"
     ]
    }
   ],
   "source": [
    "print(sepal_length_list)"
   ]
  },
  {
   "cell_type": "code",
   "execution_count": 43,
   "metadata": {},
   "outputs": [
    {
     "data": {
      "image/png": "[encoded data removed]",
      "text/plain": [
       "<Figure size 432x288 with 1 Axes>"
      ]
     },
     "metadata": {
      "needs_background": "light"
     },
     "output_type": "display_data"
    }
   ],
   "source": [
    "from matplotlib import pyplot as plt\n",
    "sepal_length_list = iris.data[:, 0] # 花萼长度\n",
    "sepal_width_list = iris.data[:, 1] # 花萼宽度\n",
    "\n",
    "# 构建 setosa、versicolor、virginica 索引数组\n",
    "setosa_index_list = iris.target == 0 # setosa 索引数组\n",
    "versicolor_index_list = iris.target == 1 # versicolor 索引数组\n",
    "virginica_index_list = iris.target == 2 # virginica 索引数组\n",
    "\n",
    "plt.scatter(sepal_length_list[setosa_index_list], \n",
    "            sepal_width_list[setosa_index_list], color=\"red\", marker='o', label=\"setosa\")\n",
    "plt.scatter(sepal_length_list[versicolor_index_list], \n",
    "            sepal_width_list[versicolor_index_list], color=\"blue\", marker=\"x\", label=\"versicolor\")\n",
    "plt.scatter(sepal_length_list[virginica_index_list], \n",
    "            sepal_width_list[virginica_index_list],color=\"green\", marker=\"+\", label=\"virginica\")\n",
    "# 设置 legend\n",
    "plt.legend(loc=\"best\", title=\"iris type\")\n",
    "# 设定横坐标名称\n",
    "plt.xlabel(\"sepal_length (cm)\")\n",
    "# 设定纵坐标名称\n",
    "plt.ylabel(\"sepal_width (cm)\")\n",
    "plt.show()"
   ]
  },
  {
   "cell_type": "code",
   "execution_count": 44,
   "metadata": {},
   "outputs": [],
   "source": [
    "X=iris.data"
   ]
  },
  {
   "cell_type": "code",
   "execution_count": 46,
   "metadata": {},
   "outputs": [],
   "source": [
    "y=iris.target"
   ]
  },
  {
   "cell_type": "code",
   "execution_count": 48,
   "metadata": {},
   "outputs": [],
   "source": [
    "from sklearn import linear_model"
   ]
  },
  {
   "cell_type": "code",
   "execution_count": 49,
   "metadata": {},
   "outputs": [],
   "source": [
    "clf=linear_model.LogisticRegression()"
   ]
  },
  {
   "cell_type": "code",
   "execution_count": 50,
   "metadata": {},
   "outputs": [
    {
     "name": "stderr",
     "output_type": "stream",
     "text": [
      "C:\\ProgramData\\Anaconda3\\lib\\site-packages\\sklearn\\linear_model\\logistic.py:433: FutureWarning: Default solver will be changed to 'lbfgs' in 0.22. Specify a solver to silence this warning.\n",
      "  FutureWarning)\n",
      "C:\\ProgramData\\Anaconda3\\lib\\site-packages\\sklearn\\linear_model\\logistic.py:460: FutureWarning: Default multi_class will be changed to 'auto' in 0.22. Specify the multi_class option to silence this warning.\n",
      "  \"this warning.\", FutureWarning)\n"
     ]
    },
    {
     "data": {
      "text/plain": [
       "LogisticRegression(C=1.0, class_weight=None, dual=False, fit_intercept=True,\n",
       "          intercept_scaling=1, max_iter=100, multi_class='warn',\n",
       "          n_jobs=None, penalty='l2', random_state=None, solver='warn',\n",
       "          tol=0.0001, verbose=0, warm_start=False)"
      ]
     },
     "execution_count": 50,
     "metadata": {},
     "output_type": "execute_result"
    }
   ],
   "source": [
    "clf.fit(X,y)"
   ]
  },
  {
   "cell_type": "code",
   "execution_count": 51,
   "metadata": {},
   "outputs": [],
   "source": [
    "wait_predict_sample=X[np.newaxis,0]"
   ]
  },
  {
   "cell_type": "code",
   "execution_count": 52,
   "metadata": {},
   "outputs": [
    {
     "name": "stdout",
     "output_type": "stream",
     "text": [
      "wait_predict_sample: [[5.1 3.5 1.4 0.2]]\n",
      "predict: [0]\n",
      "predict_proba: [[8.78030305e-01 1.21958900e-01 1.07949250e-05]]\n"
     ]
    }
   ],
   "source": [
    "print(\"wait_predict_sample: {0}\".format(wait_predict_sample))\n",
    "# 预测所属目标类别\n",
    "print(\"predict: {0}\".format(clf.predict(wait_predict_sample)))\n",
    "# 预测所属不同目标类别的概率\n",
    "print(\"predict_proba: {0}\".format(clf.predict_proba(wait_predict_sample)))"
   ]
  },
  {
   "cell_type": "code",
   "execution_count": 53,
   "metadata": {},
   "outputs": [
    {
     "name": "stderr",
     "output_type": "stream",
     "text": [
      "C:\\ProgramData\\Anaconda3\\lib\\site-packages\\sklearn\\linear_model\\logistic.py:433: FutureWarning: Default solver will be changed to 'lbfgs' in 0.22. Specify a solver to silence this warning.\n",
      "  FutureWarning)\n",
      "C:\\ProgramData\\Anaconda3\\lib\\site-packages\\sklearn\\linear_model\\logistic.py:460: FutureWarning: Default multi_class will be changed to 'auto' in 0.22. Specify the multi_class option to silence this warning.\n",
      "  \"this warning.\", FutureWarning)\n"
     ]
    },
    {
     "data": {
      "image/png": "[encoded data removed]",
      "text/plain": [
       "<Figure size 576x432 with 1 Axes>"
      ]
     },
     "metadata": {
      "needs_background": "light"
     },
     "output_type": "display_data"
    }
   ],
   "source": [
    "# 只考虑前两个特征，即花萼长度（sepal length）、花萼宽度（sepal width）\n",
    "X = iris.data[:, 0:2]\n",
    "y = iris.target\n",
    "\n",
    "# 创建一个逻辑回归的模型，并用它训练（拟合，fit）数据\n",
    "logreg = linear_model.LogisticRegression(C=1e5)\n",
    "logreg.fit(X, y)\n",
    "\n",
    "# 网格大小\n",
    "h = .02\n",
    "# 将 X 的第一列（花萼长度）作为 x 轴，并求出 x 轴的最大值与最小值\n",
    "x_min, x_max = X[:, 0].min() - .5, X[:, 0].max() + .5\n",
    "# 将 X 的第二列（花萼宽度）作为 y 轴，并求出 y 轴的最大值与最小值\n",
    "y_min, y_max = X[:, 1].min() - .5, X[:, 1].max() + .5\n",
    "\n",
    "# 使用 x 轴的最小值、最大值、步长生成数组，y 轴的最小值、最大值、步长生成数组\n",
    "# 然后使用 meshgrid 函数生成一个网格矩阵 xx 和 yy（xx 和 yy 的形状都一样）\n",
    "xx, yy = np.meshgrid(np.arange(x_min, x_max, h), np.arange(y_min, y_max, h))\n",
    "\n",
    "# 调用 ravel() 函数将 xx 和 yy 平铺，然后使用 np.c_ 将平铺后的列表拼接\n",
    "# 生成需要预测的特征矩阵，每一行的表示一个样本，每一列表示每个特征的取值\n",
    "pre_data = np.c_[xx.ravel(), yy.ravel()]\n",
    "Z = logreg.predict(pre_data)\n",
    "\n",
    "# Put the result into a color plot\n",
    "# 将预测结果 Z 的形状转为与 xx（或 yy）一样\n",
    "Z = Z.reshape(xx.shape)\n",
    "plt.figure(1, figsize=(8, 6))\n",
    "\n",
    "# 使用 pcolormesh 函数来填充颜色，对 xx，yy的位置来填充颜色，填充方案为 Z\n",
    "# cmap 表示使用的主题\n",
    "plt.pcolormesh(xx, yy, Z, cmap=plt.cm.Paired)\n",
    "\n",
    "# 将训练数据所表示的样本点填充上颜色\n",
    "plt.scatter(X[:, 0], X[:, 1], c=y, edgecolors='k', cmap=plt.cm.Paired)\n",
    "\n",
    "# 设置坐标轴label\n",
    "plt.xlabel(\"sepal length\")\n",
    "plt.ylabel(\"sepal width\")\n",
    "\n",
    "# 设置坐标轴范围\n",
    "plt.xlim(xx.min(), xx.max())\n",
    "plt.ylim(yy.min(), yy.max())\n",
    "\n",
    "# 设置坐标轴刻度\n",
    "plt.xticks(np.arange(x_min, x_max, h * 10))\n",
    "plt.yticks(np.arange(y_min, y_max, h * 10))\n",
    "\n",
    "plt.show()"
   ]
  },
  {
   "cell_type": "code",
   "execution_count": null,
   "metadata": {},
   "outputs": [],
   "source": []
  }
 ],
 "metadata": {
  "kernelspec": {
   "display_name": "Python 3",
   "language": "python",
   "name": "python3"
  },
  "language_info": {
   "codemirror_mode": {
    "name": "ipython",
    "version": 3
   },
   "file_extension": ".py",
   "mimetype": "text/x-python",
   "name": "python",
   "nbconvert_exporter": "python",
   "pygments_lexer": "ipython3",
   "version": "3.7.3"
  }
 },
 "nbformat": 4,
 "nbformat_minor": 2
}
